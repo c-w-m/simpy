{
 "cells": [
  {
   "cell_type": "markdown",
   "id": "2ef8c93f-592f-479d-8362-4b3267048cf3",
   "metadata": {},
   "source": [
    "# [Examples](https://simpy.readthedocs.io/en/latest/examples/)\n",
    "All theory is grey. In this section, we present various practical examples that demonstrate how to uses SimPy’s features.\n",
    "\n",
    "Here is a list of examples grouped by the features they demonstrate.\n",
    "\n",
    "## Condition events\n",
    "* [Bank Renege](bank_renege.ipynb)\n",
    "* [Movie Renege](movie_renege.ipynb)\n",
    "\n",
    "## Interrupts\n",
    "* [Machine Shop](machine_shop.ipynb)\n",
    "\n",
    "## Monitoring\n",
    "\n",
    "## Resources: Container\n",
    "* [Gas Station Refueling](gas_station_refueling.ipynb)\n",
    "\n",
    "## Resources: Preemptive Resource\n",
    "* [Machine Shop](machine_shop.ipynb)\n",
    "\n",
    "## Resources: Resource\n",
    "* [Bank Renege](bank_renege.ipynb)\n",
    "* [Carwash](carwash.ipynb)\n",
    "* [Gas Station Refueling](gas_station_refueling.ipynb)\n",
    "* [Movie Renege](movie_renege.ipynb)\n",
    "\n",
    "\n",
    "## Resources: Store\n",
    "* [Event Latency](event_latency.ipynb)\n",
    "* [Process Communication](process_communication.ipynb)\n",
    "\n",
    "## Shared events\n",
    "* [Movie Renege](movie_renege.ipynb)\n",
    "\n",
    "## Waiting for other processes\n",
    "* [Carwash](carwash.ipynb)\n",
    "* [Gas Station Refueling](gas_station_refueling.ipynb)\n",
    "\n",
    "## All examples\n",
    "* [Bank Renege](bank_renege.ipynb)\n",
    "* [Carwash](carwash.ipynb)\n",
    "* [Machine Shop](machine_shop.ipynb)\n",
    "* [Movie Renege](movie_renege.ipynb)\n",
    "* [Gas Station Refueling](gas_station_refueling.ipynb)\n",
    "* [Process Communication](process_communication.ipynb)\n",
    "* [Event Latency](event_latency.ipynb)\n",
    "\n",
    "You have ideas for better examples? Please send them to our mailing list or make a pull request on GitLab."
   ]
  }
 ],
 "metadata": {
  "kernelspec": {
   "display_name": "sim_dev39",
   "language": "python",
   "name": "sim_dev39"
  },
  "language_info": {
   "codemirror_mode": {
    "name": "ipython",
    "version": 3
   },
   "file_extension": ".py",
   "mimetype": "text/x-python",
   "name": "python",
   "nbconvert_exporter": "python",
   "pygments_lexer": "ipython3",
   "version": "3.9.4"
  }
 },
 "nbformat": 4,
 "nbformat_minor": 5
}
